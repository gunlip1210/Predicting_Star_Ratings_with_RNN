{
 "cells": [
  {
   "cell_type": "markdown",
   "metadata": {
    "id": "umukHleUK1q6"
   },
   "source": [
    "# 변경 사항\n",
    "\n",
    "\n",
    "* BiLSTM으로 변경.\n",
    "* softmax 함수 겹치는 것 제거.\n",
    "* custom_acc, custom_loss_func 도입. (사용 선택)\n",
    "---\n",
    "[005] weighted cross entropy 미적용.\n",
    "* 005-1 | lr:0.0001 hidden layer: 4\n",
    "* 005-1 | lr:0.00005 hidden layer: 4\n",
    "\n",
    "[006] weighted cross entropy 적용."
   ]
  },
  {
   "cell_type": "markdown",
   "metadata": {
    "id": "0LFU5rVfW7Na"
   },
   "source": [
    "# 0. 제반 환경 준비"
   ]
  },
  {
   "cell_type": "code",
   "execution_count": null,
   "metadata": {
    "id": "t_aqbskLMVF4"
   },
   "outputs": [],
   "source": [
    "# 구글 드라이브 연결.\n",
    "# from google.colab import drive\n",
    "# drive.mount('/content/drive')\n",
    "\n",
    "MODEL_PATH = '/model005.pt'"
   ]
  },
  {
   "cell_type": "code",
   "execution_count": 2,
   "metadata": {
    "id": "qi0GnFAwS5Zx"
   },
   "outputs": [
    {
     "name": "stderr",
     "output_type": "stream",
     "text": [
      "[nltk_data] Downloading package stopwords to /root/nltk_data...\n",
      "[nltk_data]   Package stopwords is already up-to-date!\n"
     ]
    },
    {
     "name": "stdout",
     "output_type": "stream",
     "text": [
      "\u001b[33mWARNING: Running pip as the 'root' user can result in broken permissions and conflicting behaviour with the system package manager, possibly rendering your system unusable.It is recommended to use a virtual environment instead: https://pip.pypa.io/warnings/venv. Use the --root-user-action option if you know what you are doing and want to suppress this warning.\u001b[0m\u001b[33m\n",
      "\u001b[0m\u001b[33mWARNING: Running pip as the 'root' user can result in broken permissions and conflicting behaviour with the system package manager, possibly rendering your system unusable.It is recommended to use a virtual environment instead: https://pip.pypa.io/warnings/venv. Use the --root-user-action option if you know what you are doing and want to suppress this warning.\u001b[0m\u001b[33m\n",
      "\u001b[0mRandom Seed: 1210\n"
     ]
    }
   ],
   "source": [
    "# 데이터처리 관련 라이브러리.\n",
    "import numpy as np\n",
    "import pandas as pd\n",
    "import matplotlib.pyplot as plt\n",
    "import re  # 정규표현식 사용 환경 제공.\n",
    "import string\n",
    "from collections import Counter\n",
    "# import seaborn as sns\n",
    "\n",
    "# 자연어처리 관련 라이브러리.\n",
    "import nltk\n",
    "nltk.download('stopwords')\n",
    "from nltk.corpus import stopwords\n",
    "\n",
    "# 딥러닝 관련 라이브러리.\n",
    "import torch\n",
    "from torch.utils.data import DataLoader, TensorDataset\n",
    "import torch.nn as nn\n",
    "from sklearn.model_selection import train_test_split\n",
    "from tqdm.notebook import tqdm  # .ipynb에 최적화된 프로그래스 바.\n",
    "# from tqdm import tqdm\n",
    "\n",
    "# 데이터셋 로딩용 라이브러리.\n",
    "!pip install -q datasets\n",
    "\n",
    "# LR sceduler 사용을 위한 hugging face의 transformers 설치.\n",
    "!pip install -q transformers\n",
    "\n",
    "# LR sceduler import.\n",
    "from transformers import get_cosine_schedule_with_warmup\n",
    "\n",
    "# Set pytorch random seed.\n",
    "seed = 1210\n",
    "torch.manual_seed(seed)\n",
    "print(\"Random Seed:\", seed)"
   ]
  },
  {
   "cell_type": "markdown",
   "metadata": {
    "id": "oViPcfEBWvT6"
   },
   "source": [
    "# 1. Data 불러오기\n"
   ]
  },
  {
   "cell_type": "code",
   "execution_count": 3,
   "metadata": {
    "id": "k8uonsW1N9zv"
   },
   "outputs": [
    {
     "name": "stdout",
     "output_type": "stream",
     "text": [
      "Dataset({\n",
      "    features: ['label', 'text'],\n",
      "    num_rows: 650000\n",
      "})\n",
      "{'label': 4, 'text': \"dr. goldberg offers everything i look for in a general practitioner.  he's nice and easy to talk to without being patronizing; he's always on time in seeing his patients; he's affiliated with a top-notch hospital (nyu) which my parents have explained to me is very important in case something happens and you need surgery; and you can get referrals to see specialists without having to see him first.  really, what more do you need?  i'm sitting here trying to think of any complaints i have about him, but i'm really drawing a blank.\"}\n",
      "{'label': 1, 'text': \"Unfortunately, the frustration of being Dr. Goldberg's patient is a repeat of the experience I've had with so many other doctors in NYC -- good doctor, terrible staff.  It seems that his staff simply never answers the phone.  It usually takes 2 hours of repeated calling to get an answer.  Who has time for that or wants to deal with it?  I have run into this problem with many other doctors and I just don't get it.  You have office workers, you have patients with medical needs, why isn't anyone answering the phone?  It's incomprehensible and not work the aggravation.  It's with regret that I feel that I have to give Dr. Goldberg 2 stars.\"}\n",
      "{'label': 3, 'text': \"Been going to Dr. Goldberg for over 10 years. I think I was one of his 1st patients when he started at MHMG. He's been great over the years and is really all about the big picture. It is because of him, not my now former gyn Dr. Markoff, that I found out I have fibroids. He explores all options with you and is very patient and understanding. He doesn't judge and asks all the right questions. Very thorough and wants to be kept in the loop on every aspect of your medical health and your life.\"}\n",
      "{'label': 3, 'text': 'Got a letter in the mail last week that said Dr. Goldberg is moving to Arizona to take a new position there in June.  He will be missed very much.  \\\\n\\\\nI think finding a new doctor in NYC that you actually like might almost be as awful as trying to find a date!'}\n",
      "{'label': 0, 'text': \"I don't know what Dr. Goldberg was like before  moving to Arizona, but let me tell you, STAY AWAY from this doctor and this office. I was going to Dr. Johnson before he left and Goldberg took over when Johnson left. He is not a caring doctor. He is only interested in the co-pay and having you come in for medication refills every month. He will not give refills and could less about patients's financial situations. Trying to get your 90 days mail away pharmacy prescriptions through this guy is a joke. And to make matters even worse, his office staff is incompetent. 90% of the time when you call the office, they'll put you through to a voice mail, that NO ONE ever answers or returns your call. Both my adult children and husband have decided to leave this practice after experiencing such frustration. The entire office has an attitude like they are doing you a favor. Give me a break! Stay away from this doc and the practice. You deserve better and they will not be there when you really need them. I have never felt compelled to write a bad review about anyone until I met this pathetic excuse for a doctor who is all about the money.\"}\n",
      "{'label': 4, 'text': \"Top notch doctor in a top notch practice. Can't say I am surprised when I was referred to him by another doctor who I think is wonderful and because he went to one of the best medical schools in the country. \\\\nIt is really easy to get an appointment. There is minimal wait to be seen and his bedside manner is great.\"}\n",
      "{'label': 4, 'text': 'Dr. Eric Goldberg is a fantastic doctor who has correctly diagnosed every issue that my wife and I have had. Unlike many of my past doctors, Dr. Goldberg is very accessible and we have been able to schedule appointments with him and his staff very quickly. We are happy to have him in the neighborhood and look forward to being his patients for many years to come.'}\n",
      "{'label': 0, 'text': \"I'm writing this review to give you a heads up before you see this Doctor. The office staff and administration are very unprofessional. I left a message with multiple people regarding my bill, and no one ever called me back. I had to hound them to get an answer about my bill. \\\\n\\\\nSecond, and most important, make sure your insurance is going to cover Dr. Goldberg's visits and blood work. He recommended to me that I get a physical, and he knew I was a student because I told him. I got the physical done. Later, I found out my health insurance doesn't pay for preventative visits. I received an $800.00 bill for the blood work. I can't pay for my bill because I'm a student and don't have any cash flow at this current time. I can't believe the Doctor wouldn't give me a heads up to make sure my insurance would cover work that wasn't necessary and was strictly preventative. The office can't do anything to help me cover the bill. In addition, the office staff said the onus is on me to make sure my insurance covers visits. Frustrating situation!\"}\n",
      "{'label': 1, 'text': 'Wing sauce is like water. Pretty much a lot of butter and some hot sauce (franks red hot maybe).  The whole wings are good size and crispy, but for $1 a wing the sauce could be better. The hot and extra hot are about the same flavor/heat.  The fish sandwich is good and is a large portion, sides are decent.'}\n",
      "{'label': 2, 'text': \"Decent range somewhat close to the city.  The mats are pretty solid; however, the grass range needs to be tended too.  It's like hitting out of US Open type rough...not very amenable to practicing.  Which kind of defeats the purpose of going to a golf range...Still gets 3 stars because the range is lit up at night which is excellent for those of us who are addicted to this amazing game, but are somewhat short on time (having a job kinda sucks sometimes, no?).\"}\n",
      "Dataset({\n",
      "    features: ['label', 'text'],\n",
      "    num_rows: 50000\n",
      "})\n",
      "{'label': 0, 'text': 'I got \\'new\\' tires from them and within two weeks got a flat. I took my car to a local mechanic to see if i could get the hole patched, but they said the reason I had a flat was because the previous patch had blown - WAIT, WHAT? I just got the tire and never needed to have it patched? This was supposed to be a new tire. \\\\nI took the tire over to Flynn\\'s and they told me that someone punctured my tire, then tried to patch it. So there are resentful tire slashers? I find that very unlikely. After arguing with the guy and telling him that his logic was far fetched he said he\\'d give me a new tire \\\\\"this time\\\\\". \\\\nI will never go back to Flynn\\'s b/c of the way this guy treated me and the simple fact that they gave me a used tire!'}\n",
      "{'label': 0, 'text': \"Don't waste your time.  We had two different people come to our house to give us estimates for a deck (one of them the OWNER).  Both times, we never heard from them.  Not a call, not the estimate, nothing.\"}\n",
      "{'label': 0, 'text': 'All I can say is the worst! We were the only 2 people in the place for lunch, the place was freezing and loaded with kids toys! 2 bicycles, a scooter, and an electronic keyboard graced the dining room. A fish tank with filthy, slimy fingerprints smeared all over it is there for your enjoyment.\\\\n\\\\nOur food came... no water to drink, no tea, medium temperature food. Of course its cold, just like the room, I never took my jacket off! The plates are too small, you food spills over onto some semi-clean tables as you sit in your completely worn out booth seat. The fried noodles were out of a box and nasty, the shrimp was mushy, the fried rice was bright yellow.\\\\n\\\\nWe asked for water, they brought us 1 in a SOLO cup for 2 people. I asked for hot tea, they said 10 minutes. What Chinese restaurant does not have hot tea available upon request?\\\\n\\\\nOver all.... my first and last visit to this place. The only good point was that it was cheap, and deservingly so.'}\n",
      "{'label': 0, 'text': \"I have been to this restaurant twice and was disappointed both times. I won't go back. The first time we were there almost 3 hours. It took forever to order and then forever for our food to come and the place was empty. When I complained the manager was very rude and tried to blame us for taking to long to order. It made no sense, how could we order when the waitress wasn't coming to the table? After arguing with me he ended up taking $6 off of our $200+ bill. Ridiculous. If it were up to me I would have never returned. Unfortunately my family decided to go here again tonight. Again it took a long time to get our food. My food was cold and bland, my kids food was cold. My husbands salmon was burnt to a crisp and my sister in law took one bite of her trout and refused to eat any more because she claims it was so disgusting. The wedding soup and bread were good, but that's it! My drink sat empty throughout my meal and never got refilled even when I asked. Bad food, slow service and rude managers. I'll pass on this place if my family decides to go again. Not worth it at all with all the other good Italian options around.\"}\n",
      "{'label': 0, 'text': \"Food was NOT GOOD at all! My husband & I ate here a couple weeks ago for the first time. I ordered a salad & basil pesto cream pasta & my husband ordered the spinach & feta pasta. The salad was just a huge plate of spring mix (nothing else in it) with WAY to much vinegar dressing. My lettuce was drowning in the vinegar. My pesto pasta had no flavor (did not taste like a cream sauce to me) & the pesto was so runny/watery & way too much sauce not enough noodles. My husband's pasta had even less flavor than mine. We ate about a quarter of the food & couldn't even finish it. We took it home & it was so bad I didn't even eat my leftovers. And I hate wasting food!! Plus the prices are expensive for the amount of food you get & of course the poor quality. Don't waste your time eating here. There are much better Italian restaurants in Pittsburgh.\"}\n",
      "{'label': 2, 'text': \"This is a tiny Starbucks and it locations like this (although cute) makes you wonder if your really meant to hang out or just grab your coffee and leave. Leaving is always a good idea at this location anyway since you have a nice fountain in the back with benches and it is a central part of the Waterfront Shopping. \\\\n\\\\nStarbuck isn't my favorite coffee chain by any means. Is it just me or do all Starbuck coffees taste a little burnt and bitter? No matter how trendy, cool and upscale their establishments are I can't get around the yicky tasting bitterness of Staryucks regular coffees. Talk about over roasting a bean...Maybe something has changed with their regular coffee but I have not drank it in about a year. I am not one for soy caramel latte foofy stuff. Still I'll give the establishment tres estrellas for the fact that their espresso is acceptable and doesn't taste half as bad as the regular coffee bean.\"}\n",
      "{'label': 1, 'text': 'Typical Starbucks coffee chain. 2 things I dont like about this Starbucks: \\\\n\\\\n1. Ive been there twice and both times the place has been dirty, compared to the other Starbucks I have been in.\\\\n\\\\n2. If you have to use the bathroom, they give you a key thats attached to this nasty bottle. Im pretty sure they dont clean that bottle after every use or even nightly.\\\\n\\\\nAside from that, good coffee and fast/friendly service.'}\n",
      "{'label': 3, 'text': \"So.Much.Fun! \\\\n\\\\nI WISH I could play a song at the drop of a hat. Too bad I never took piano lessons and I'd probably end up mumbling half the lyrics other than the chorus. Unless it's Salt n' Pepa's Shoop. \\\\n\\\\nThis is a really great place to go when you have out of town guests or are looking for a fun place to take someone for a birthday celebration or a fun night out. It's just something different to do other than boozing it up at the bars on a Saturday night. \\\\n\\\\nKeep in mind you'll be paying around a $5-10 cover plus whatever drinks and food you get. The good thing is the food is coming from the attached Rock Bottom Brewery. So a lot of it is restaurant quality good. Plus the brewery beer is actually pretty good! OF course you will be paying restaurant price drinks...so of course they're up charged a bit. But you do pay for the whole experience....so you gotta get into the spirit with some spirits! \\\\n\\\\nThe guys who play are incredibly talented. There's 2 guys that will take requests and play songs on the piano. They pretty much play ANYTHING you ask. Contemporary songs, throw back songs, fight songs, rap songs, pop songs. You name it, they play it. \\\\n\\\\nMy favorite part is when they switch out to another two guys. They'll all four get on stage and play two piano's, a guitar and drums. They usually rock out with some fun familiar songs (um, Journey, of course!). \\\\n\\\\nThe birthday song is seriously the best. They sing to you....and call you some names....with expletives. But in a totally nice way of course. You just have to go!\"}\n",
      "{'label': 3, 'text': 'My friend is a piano teacher, so I took it as a good sign that Sing Sing would be quality stuff. It was her birthday, and I didn\\'t really know anything about dueling piano bars. I was picturing glossy black grand pianos with glittering notes, pianists in black jackets and crystal glasses full of red wine. I am really, really glad I was wrong. \\\\n\\\\nIt was gritty, bawdy and quintessentially Pittsburgh. First off, the pianos are scuffed to hell, considering the number of tipsy people who sit on them nightly while being mildly humiliated. The musicians hammer away at them, and they\\'re covered with N@ and Sing Sing stickers. It\\'s obvious they\\'ve been well-loved. The music is anything but the elevator music I was picturing; it\\'s rock, hip-hop, oldies, pop, and just about any genre imaginable thanks to the request system (send up a piece of paper with some money) and the amazing repertoire of the musicians. For instance, \\\\\"Rubber Ducky\\\\\" and \\\\\"Gangsta\\'s Paradise\\\\\" were both featured when I was there, and both performed impeccably. They also honored a request for a Taylor Swift song only to receive $30 and a request for \\\\\"anything else,\\\\\" which they promptly followed. The musicians also do funny versions of popular songs, and throw in things like \\\\\"yinz\\\\\" instead of \\\\\"you.\\\\\"\\\\n\\\\nI saw in awe of the performers for a decent portion of the night. It must take a particularly special type of person to put on a show like this, considering the energy, confidence, wit, empathy, boldness, silliness, cleverness, and sheer talent a job like this requires. They rotate performers in and out so there\\'s not even an intermission. I\\'ve read comments about the baseness of the humor, but I had no doubt the guys up on stage were intelligent dudes. They had great personalities: one was about 140 pounds, cheeky, and quick-witted. He acted out every sport in the winter olympics, and was pretty into this 90-something-year-old lady in the audience called Joan. The other had crazy hair and bright blue Chucks, beatboxed as well as he sang, and made it point to play a handful of songs for my friend\\'s birthday. \\\\\"I think Ray Charles is the most soulful guy of all time,\\\\\" he said when she requested him.\\\\n\\\\nThere were tons of people celebrating birthdays, and one big bachelorette party the Saturday night I was there. The performers bring the birthday boy/girl, bachelor/bachelorette, etc. on stage (for a $20 tip, which is pretty easy to scrounge up among friends) and humiliate the hell out of them, i.e. this is not the place to be if you can\\'t laugh at yourself. My friend had a short dress on when she sat on the piano, and they sang a three-minute song about her vagina.\\\\n\\\\nLuckily, the show eclipsed the bad service and overpriced, weak drinks, because those did feature heavily throughout the night. The rest of the staff was friendly, however, and I stumbled on the door guy singing and dancing by himself, which made me smile.\\\\n\\\\nSing Sing is definitely not an every weekend type of thing (much like Hofbr\\\\u00e4uhaus), but is a splendid way to celebrate a special occasion. Definitely belongs on every required Pittsburgh experiences list.'}\n",
      "{'label': 2, 'text': \"Stopped by on a Mon evening after trying to dine at Smoke Taqueria which is closed Mondays. Parking on street in front or behind off Hay St. Super friendly bartender. In warmer months they have huge outdoor area & big screen & upstairs cornhole game area. Okay draft beer selection and big bottle selection. Tried the italian club which was really good - two of us split one. Also tried sweet potato fries - amazingly good! Home made chips w bleu were overpowered by sauce. Bathroom was in need of plaster and wall repairs & was grossed out by toilet brush/holder on a shelf near toilet at eye level. Bet it's a fun place in warmer months.\"}\n"
     ]
    }
   ],
   "source": [
    "# 데이터셋 로딩.\n",
    "from datasets import load_dataset  # Huggingface의 datasets 라이브러리를 이용.\n",
    "\n",
    "# Yelp Review Full 데이터셋 불러오기.\n",
    "# 음식점, 서비스, 장소 등 비즈니스에 대한 텍스트 후기와 별점(0-4)이 포함된 데이터셋.\n",
    "dataset_train = load_dataset(\"yelp_review_full\", split=\"train\")\n",
    "dataset_test = load_dataset(\"yelp_review_full\", split=\"test\")\n",
    "\n",
    "# 데이터셋의 예시 확인.\n",
    "print(dataset_train)\n",
    "for i in range(10):\n",
    "    print(dataset_train[i])\n",
    "print(dataset_test)\n",
    "for i in range(10):\n",
    "    print(dataset_test[i])"
   ]
  },
  {
   "cell_type": "code",
   "execution_count": 4,
   "metadata": {
    "id": "F5A-VAEdVVg1"
   },
   "outputs": [
    {
     "name": "stdout",
     "output_type": "stream",
     "text": [
      "# of all data: 700000\n"
     ]
    },
    {
     "data": {
      "text/html": [
       "<div>\n",
       "<style scoped>\n",
       "    .dataframe tbody tr th:only-of-type {\n",
       "        vertical-align: middle;\n",
       "    }\n",
       "\n",
       "    .dataframe tbody tr th {\n",
       "        vertical-align: top;\n",
       "    }\n",
       "\n",
       "    .dataframe thead th {\n",
       "        text-align: right;\n",
       "    }\n",
       "</style>\n",
       "<table border=\"1\" class=\"dataframe\">\n",
       "  <thead>\n",
       "    <tr style=\"text-align: right;\">\n",
       "      <th></th>\n",
       "      <th>0</th>\n",
       "      <th>1</th>\n",
       "      <th>2</th>\n",
       "      <th>3</th>\n",
       "      <th>4</th>\n",
       "    </tr>\n",
       "  </thead>\n",
       "  <tbody>\n",
       "    <tr>\n",
       "      <th># of data</th>\n",
       "      <td>140000</td>\n",
       "      <td>140000</td>\n",
       "      <td>140000</td>\n",
       "      <td>140000</td>\n",
       "      <td>140000</td>\n",
       "    </tr>\n",
       "  </tbody>\n",
       "</table>\n",
       "</div>"
      ],
      "text/plain": [
       "                0       1       2       3       4\n",
       "# of data  140000  140000  140000  140000  140000"
      ]
     },
     "execution_count": 4,
     "metadata": {},
     "output_type": "execute_result"
    }
   ],
   "source": [
    "# Pandas DataFrame 형태로 변환.\n",
    "train_df = pd.DataFrame(dataset_train)\n",
    "test_df = pd.DataFrame(dataset_test)\n",
    "\n",
    "# train_df와 test_df를 하나의 DataFrame으로 세로로 연결.\n",
    "data_df = pd.concat([train_df, test_df], ignore_index=True)\n",
    "\n",
    "\n",
    "# Train data 65만개, Test data 5만개, 총 70만개, 별점 별 14만개.\n",
    "# 별점 별 동일 개수.\n",
    "data_count = [[data_df.label.value_counts()[0],\n",
    "        data_df.label.value_counts()[1],\n",
    "        data_df.label.value_counts()[2],\n",
    "        data_df.label.value_counts()[3],\n",
    "        data_df.label.value_counts()[4]]]\n",
    "print(\"# of all data:\", data_df.shape[0])\n",
    "pd.DataFrame(data_count, index=[\"# of data\"])"
   ]
  },
  {
   "cell_type": "markdown",
   "metadata": {
    "id": "hsrsby6lXEZE"
   },
   "source": [
    "# 2. Data 전처리"
   ]
  },
  {
   "cell_type": "markdown",
   "metadata": {
    "id": "qO72-3LDbmGq"
   },
   "source": [
    "## 2-a. Data Cleaning.\n",
    "unicode characters, puncutation, stopwords 제거."
   ]
  },
  {
   "cell_type": "code",
   "execution_count": 5,
   "metadata": {
    "id": "HCEkd-NCWOwH"
   },
   "outputs": [
    {
     "data": {
      "application/vnd.jupyter.widget-view+json": {
       "model_id": "0782367bd0a54b429ede540fda8381b9",
       "version_major": 2,
       "version_minor": 0
      },
      "text/plain": [
       "  0%|          | 0/700000 [00:00<?, ?it/s]"
      ]
     },
     "metadata": {},
     "output_type": "display_data"
    },
    {
     "data": {
      "text/html": [
       "<div>\n",
       "<style scoped>\n",
       "    .dataframe tbody tr th:only-of-type {\n",
       "        vertical-align: middle;\n",
       "    }\n",
       "\n",
       "    .dataframe tbody tr th {\n",
       "        vertical-align: top;\n",
       "    }\n",
       "\n",
       "    .dataframe thead th {\n",
       "        text-align: right;\n",
       "    }\n",
       "</style>\n",
       "<table border=\"1\" class=\"dataframe\">\n",
       "  <thead>\n",
       "    <tr style=\"text-align: right;\">\n",
       "      <th></th>\n",
       "      <th>label</th>\n",
       "      <th>text</th>\n",
       "      <th>cleaned_text</th>\n",
       "    </tr>\n",
       "  </thead>\n",
       "  <tbody>\n",
       "    <tr>\n",
       "      <th>0</th>\n",
       "      <td>4</td>\n",
       "      <td>dr. goldberg offers everything i look for in a...</td>\n",
       "      <td>dr goldberg offers everything look general pra...</td>\n",
       "    </tr>\n",
       "    <tr>\n",
       "      <th>1</th>\n",
       "      <td>1</td>\n",
       "      <td>Unfortunately, the frustration of being Dr. Go...</td>\n",
       "      <td>unfortunately frustration dr goldberg patient ...</td>\n",
       "    </tr>\n",
       "    <tr>\n",
       "      <th>2</th>\n",
       "      <td>3</td>\n",
       "      <td>Been going to Dr. Goldberg for over 10 years. ...</td>\n",
       "      <td>going dr goldberg 10 years think one 1st patie...</td>\n",
       "    </tr>\n",
       "    <tr>\n",
       "      <th>3</th>\n",
       "      <td>3</td>\n",
       "      <td>Got a letter in the mail last week that said D...</td>\n",
       "      <td>got letter mail last week said dr goldberg mov...</td>\n",
       "    </tr>\n",
       "    <tr>\n",
       "      <th>4</th>\n",
       "      <td>0</td>\n",
       "      <td>I don't know what Dr. Goldberg was like before...</td>\n",
       "      <td>know dr goldberg like moving arizona let tell ...</td>\n",
       "    </tr>\n",
       "  </tbody>\n",
       "</table>\n",
       "</div>"
      ],
      "text/plain": [
       "   label                                               text  \\\n",
       "0      4  dr. goldberg offers everything i look for in a...   \n",
       "1      1  Unfortunately, the frustration of being Dr. Go...   \n",
       "2      3  Been going to Dr. Goldberg for over 10 years. ...   \n",
       "3      3  Got a letter in the mail last week that said D...   \n",
       "4      0  I don't know what Dr. Goldberg was like before...   \n",
       "\n",
       "                                        cleaned_text  \n",
       "0  dr goldberg offers everything look general pra...  \n",
       "1  unfortunately frustration dr goldberg patient ...  \n",
       "2  going dr goldberg 10 years think one 1st patie...  \n",
       "3  got letter mail last week said dr goldberg mov...  \n",
       "4  know dr goldberg like moving arizona let tell ...  "
      ]
     },
     "execution_count": 5,
     "metadata": {},
     "output_type": "execute_result"
    }
   ],
   "source": [
    "def data_preprocessing(text):\n",
    "    text = text.lower()\n",
    "    text = re.sub(r\"(@\\[A-Za-z0-9]+)|([^0-9A-Za-z \\t])|(\\w+:\\/\\/\\S+)|^rt|http.+?\", \" \", text) # Removing Unicode Characters\n",
    "    text = ''.join([c for c in text if c not in string.punctuation]) # Remove punctuation\n",
    "\n",
    "    # Removing Stopwords\n",
    "    # stop words are common words within sentences that do not add value\n",
    "    # and thus can be eliminated when cleaning for NLP prior to analysis.\n",
    "    # e.g., 'the', 'was'\n",
    "\n",
    "    stop_words = set(stopwords.words('english'))\n",
    "    text = [word for word in text.split() if word not in stop_words]\n",
    "    text = ' '.join(text)\n",
    "\n",
    "    return text\n",
    "\n",
    "tqdm.pandas()  # tqdm을 이용하여 진행률 표시하기 위해 초기화.\n",
    "data_df['cleaned_text'] = data_df['text'].progress_apply(data_preprocessing)  # cleaned_text 열을 생성하면서 진행률 표시.\n",
    "data_df.head()"
   ]
  },
  {
   "cell_type": "markdown",
   "metadata": {
    "id": "-OlS5BCxeRbl"
   },
   "source": [
    "# 3. Data 토큰화"
   ]
  },
  {
   "cell_type": "markdown",
   "metadata": {
    "id": "3W5nLzoVeuf0"
   },
   "source": [
    "## 3-a. Create Vocab-Int mapping."
   ]
  },
  {
   "cell_type": "markdown",
   "metadata": {
    "id": "20jAtGcKfwvs"
   },
   "source": [
    "단어 추출 후, 빈도를 계산하여 순서대로 *sorted_words*에 저장."
   ]
  },
  {
   "cell_type": "code",
   "execution_count": 6,
   "metadata": {
    "id": "fMC57pDUemuU"
   },
   "outputs": [],
   "source": [
    "corpus = [word for text in data_df['cleaned_text'] for word in text.split()]\n",
    "count_words = Counter(corpus)\n",
    "sorted_words = count_words.most_common()"
   ]
  },
  {
   "cell_type": "markdown",
   "metadata": {
    "id": "SfllwH2rf2Zz"
   },
   "source": [
    "Vocabulary 생성.\n",
    "One-hot vectoer."
   ]
  },
  {
   "cell_type": "code",
   "execution_count": 7,
   "metadata": {
    "id": "NFkD4R6ZgVkA"
   },
   "outputs": [
    {
     "data": {
      "application/vnd.jupyter.widget-view+json": {
       "model_id": "dc98b199766a4184a64298e7de982ef5",
       "version_major": 2,
       "version_minor": 0
      },
      "text/plain": [
       "Converting text to integers:   0%|          | 0/700000 [00:00<?, ?it/s]"
      ]
     },
     "metadata": {},
     "output_type": "display_data"
    },
    {
     "name": "stdout",
     "output_type": "stream",
     "text": [
      "[[913, 38405, 1310, 105, 165, 1011, 13744, 21, 487, 630, 234, 9467, 53, 8, 880, 3516, 10242, 176, 1420, 2327, 40493, 1583, 994, 1390, 691, 85, 1654, 131, 3437, 6, 13831, 68, 13559, 234, 68, 34, 14, 131, 427, 258, 50, 1325, 14, 8373, 5381]]\n"
     ]
    }
   ],
   "source": [
    "vocab_to_int = {w:i+1 for i, (w,c) in enumerate(sorted_words)}\n",
    "\n",
    "# tqdm을 사용하여 cleaned_text 열의 각 텍스트에 대한 진행률 표시.\n",
    "text_int = []\n",
    "\n",
    "# tqdm을 이용해 cleaned_text의 각 항목에 대해 진행률 표시.\n",
    "for text in tqdm(data_df['cleaned_text'], desc=\"Converting text to integers\"):\n",
    "    r = [vocab_to_int[word] for word in text.split()]\n",
    "    text_int.append(r)\n",
    "\n",
    "# 첫 번째 텍스트의 정수 표현 확인.\n",
    "print(text_int[:1])\n",
    "\n",
    "# DataFrame에 정수 표현을 추가.\n",
    "data_df['text_int'] = text_int"
   ]
  },
  {
   "cell_type": "markdown",
   "metadata": {
    "id": "PXRsHVIPg8Bg"
   },
   "source": [
    "# 4. Padding and Truncating the data"
   ]
  },
  {
   "cell_type": "markdown",
   "metadata": {
    "id": "E74qg4C7kU-G"
   },
   "source": [
    "## 4-a. Analyze the text length"
   ]
  },
  {
   "cell_type": "code",
   "execution_count": 8,
   "metadata": {
    "id": "fMzmhkPvkW8S"
   },
   "outputs": [
    {
     "name": "stdout",
     "output_type": "stream",
     "text": [
      "count    700000.000000\n",
      "mean         70.655090\n",
      "std          63.825577\n",
      "min           0.000000\n",
      "25%          28.000000\n",
      "50%          52.000000\n",
      "75%          92.000000\n",
      "max        1002.000000\n",
      "Name: text_len, dtype: float64\n"
     ]
    },
    {
     "data": {
      "image/png": "[encoded data removed]",
      "text/plain": [
       "<Figure size 640x480 with 1 Axes>"
      ]
     },
     "metadata": {},
     "output_type": "display_data"
    }
   ],
   "source": [
    "text_len = [len(x) for x in text_int]\n",
    "data_df['text_len'] = text_len\n",
    "\n",
    "print(data_df[\"text_len\"].describe())\n",
    "\n",
    "data_df[\"text_len\"].hist(bins = range(min(data_df[\"text_len\"]), max(data_df[\"text_len\"]) + 50, 50))\n",
    "plt.title('Text length distribution', size=15)\n",
    "plt.show()"
   ]
  },
  {
   "cell_type": "markdown",
   "metadata": {
    "id": "03_HDabDkv6-"
   },
   "source": [
    "## 4-b. Padding / Truncation"
   ]
  },
  {
   "cell_type": "code",
   "execution_count": 9,
   "metadata": {
    "id": "Rw2MAXxBlS52"
   },
   "outputs": [
    {
     "data": {
      "application/vnd.jupyter.widget-view+json": {
       "model_id": "b1c886aa5b2d44f7a6e856c6b56253a5",
       "version_major": 2,
       "version_minor": 0
      },
      "text/plain": [
       "Padding reviews:   0%|          | 0/700000 [00:00<?, ?it/s]"
      ]
     },
     "metadata": {},
     "output_type": "display_data"
    }
   ],
   "source": [
    "def Padding(review_int, seq_len):\n",
    "    '''\n",
    "    0으로 패딩\n",
    "    Return features of text_int, where each text is padded with 0's or truncated to the input seq_length.\n",
    "    '''\n",
    "    # Initialize the features array with zeros.\n",
    "    features = np.zeros((len(review_int), seq_len), dtype=int)\n",
    "\n",
    "    # tqdm을 사용하여 패딩 작업의 진행률 표시.\n",
    "    for i, text in tqdm(enumerate(review_int), total=len(review_int), desc=\"Padding reviews\"):\n",
    "        if len(text) <= seq_len:\n",
    "            zeros = list(np.zeros(seq_len - len(text)))\n",
    "            new = text + zeros\n",
    "        else:\n",
    "            new = text[:seq_len]\n",
    "        features[i, :] = np.array(new)\n",
    "\n",
    "    return features\n",
    "\n",
    "# seq_len 200으로 설정하고 Padding 함수 호출.\n",
    "features = Padding(text_int, 200)\n",
    "# print(features[0, :])"
   ]
  },
  {
   "cell_type": "markdown",
   "metadata": {
    "id": "QocR7ZjQlwhn"
   },
   "source": [
    "# 5. Data split\n",
    "test : valid : test = 12 : 1 : 1 비율로 dataset 분리."
   ]
  },
  {
   "cell_type": "code",
   "execution_count": 10,
   "metadata": {
    "id": "ivH7aK4nmorK"
   },
   "outputs": [
    {
     "name": "stdout",
     "output_type": "stream",
     "text": [
      "# of Train dataset: 600000\n",
      "# of Valid dataset: 50000\n",
      "# of Test dataset: 50000\n"
     ]
    }
   ],
   "source": [
    "# Train set 분리\n",
    "X_train, X_remain, y_train, y_remain = train_test_split(features, data_df['label'].to_numpy(), test_size=1/7, random_state=1)\n",
    "\n",
    "# Valid set, Test set 분리\n",
    "X_valid, X_test, y_valid, y_test = train_test_split(X_remain, y_remain, test_size=0.5, random_state=1)\n",
    "\n",
    "print(\"# of Train dataset:\", len(X_train))\n",
    "print(\"# of Valid dataset:\", len(X_valid))\n",
    "print(\"# of Test dataset:\", len(X_test))"
   ]
  },
  {
   "cell_type": "markdown",
   "metadata": {
    "id": "695kEuL6ozWb"
   },
   "source": [
    "# 6. Set hyperparameter"
   ]
  },
  {
   "cell_type": "code",
   "execution_count": 11,
   "metadata": {
    "id": "1dc2dx48o4bB"
   },
   "outputs": [],
   "source": [
    "BATCH_SIZE = 64  # 16, 32, 64, 128 등 해보고 결과 비교.\n",
    "\n",
    "EMBED_DIM = 64\n",
    "HIDDEN_DIM = 256\n",
    "N_LAYERS = 4\n",
    "DROPOUT_PROB = 0.3  # 0.3 - 0.5 정도. 데이터셋이 많을 수록 작은 값 사용하는 편.\n",
    "\n",
    "SEMI_DIFF_SCORE = 0.2  # predict label과 real label이 1만큼 차이 날 때, 몇 점으로 매길 것인지. 완전 불일치 0. 완전 일치 1.\n",
    "\n",
    "VOCAB_SIZE = len(vocab_to_int) + 1  # 고정.\n",
    "OUTPUT_SIZE = 5  # 고정."
   ]
  },
  {
   "cell_type": "markdown",
   "metadata": {
    "id": "BErVpINqpDH_"
   },
   "source": [
    "# 7. Data loader"
   ]
  },
  {
   "cell_type": "code",
   "execution_count": 12,
   "metadata": {
    "id": "HDnWNoLcpuAc"
   },
   "outputs": [],
   "source": [
    "# trun our data into tensor dataset\n",
    "train_data = TensorDataset(torch.from_numpy(X_train), torch.from_numpy(y_train))\n",
    "test_data = TensorDataset(torch.from_numpy(X_test), torch.from_numpy(y_test))\n",
    "valid_data = TensorDataset(torch.from_numpy(X_valid), torch.from_numpy(y_valid))\n",
    "\n",
    "# build dataloaders\n",
    "train_loader = DataLoader(train_data, shuffle=True, batch_size=BATCH_SIZE, drop_last=True) # drop_last. 마지막 배치에서 데이터셋이 부족하면 무시.\n",
    "test_loader = DataLoader(test_data, shuffle=True, batch_size=BATCH_SIZE, drop_last=True)\n",
    "valid_loader = DataLoader(valid_data, shuffle=True, batch_size=BATCH_SIZE, drop_last=True)"
   ]
  },
  {
   "cell_type": "markdown",
   "metadata": {
    "id": "H02bDzs4NCyB"
   },
   "source": [
    "# 8. Deep learning Model\n",
    "RNN with BiLSTM"
   ]
  },
  {
   "cell_type": "code",
   "execution_count": 13,
   "metadata": {
    "id": "tHj2Lnl9NK2-"
   },
   "outputs": [
    {
     "name": "stdout",
     "output_type": "stream",
     "text": [
      "GPU is available\n"
     ]
    }
   ],
   "source": [
    "# GPU vs. CPU 선택.\n",
    "is_cuda = torch.cuda.is_available()\n",
    "if is_cuda:\n",
    "    device = torch.device(\"cuda\")\n",
    "    print(\"GPU is available\")\n",
    "else:\n",
    "    device = torch.device(\"cpu\")\n",
    "    print(\"GPU not available, use CPU\")"
   ]
  },
  {
   "cell_type": "code",
   "execution_count": 14,
   "metadata": {
    "id": "Mz9GXfCmOEks"
   },
   "outputs": [],
   "source": [
    "# Model Block 정의\n",
    "class LSTM(nn.Module):\n",
    "    def __init__(self, vocab_size, output_size, embedding_dim, hidden_dim, n_layers, drop_prob):\n",
    "        super().__init__()\n",
    "        self.output_size = output_size\n",
    "        self.hidden_dim = hidden_dim\n",
    "        self.n_layers = n_layers\n",
    "\n",
    "        # Embedding and LSTM layers\n",
    "        self.embedding = nn.Embedding(vocab_size, embedding_dim)\n",
    "        self.lstm = nn.LSTM(embedding_dim, hidden_dim, n_layers, dropout=drop_prob, batch_first=True, bidirectional=True)\n",
    "\n",
    "        # Dropout and fully connected layer\n",
    "        self.dropout = nn.Dropout(0.3)\n",
    "        self.fc = nn.Linear(hidden_dim, output_size)\n",
    "        # self.softmax = nn.Softmax(dim=1)  # Softmax for multi-class output\n",
    "\n",
    "    def forward(self, x, hidden):\n",
    "        batch_size = x.size(0)\n",
    "\n",
    "        # Embedding and LSTM output\n",
    "        embeds = self.embedding(x)\n",
    "        lstm_out, hidden = self.lstm(embeds, hidden)\n",
    "\n",
    "        # Stack up LSTM outputs\n",
    "        lstm_out = lstm_out.contiguous().view(-1, self.hidden_dim)\n",
    "\n",
    "        # Dropout and fully connected layer\n",
    "        out = self.dropout(lstm_out)\n",
    "        out = self.fc(out)\n",
    "\n",
    "        # Apply softmax to output layer for multi-class classification\n",
    "        # softmax_out = self.softmax(out)\n",
    "\n",
    "        # Reshape to batch size\n",
    "        # softmax_out = softmax_out.view(batch_size, -1, self.output_size)\n",
    "        # softmax_out = softmax_out[:, -1]  # Select final time step's output\n",
    "\n",
    "        # return softmax_out, hidden\n",
    "\n",
    "        # Softmax 제거 버전.\n",
    "        # Reshape to batch size\n",
    "        out = out.view(batch_size, -1, self.output_size)\n",
    "        out = out[:, -1]  # Select final time step's output\n",
    "\n",
    "        return out, hidden\n",
    "\n",
    "    def init_hidden(self, batch_size):\n",
    "        h0 = torch.zeros((self.n_layers*2, batch_size, self.hidden_dim)).to(device)  # *2 Bidirection 이므로\n",
    "        c0 = torch.zeros((self.n_layers*2, batch_size, self.hidden_dim)).to(device)  # *2 Bidirection 이므로\n",
    "        hidden = (h0, c0)\n",
    "        return hidden\n"
   ]
  },
  {
   "cell_type": "code",
   "execution_count": 15,
   "metadata": {
    "id": "78zMc07eQe9p"
   },
   "outputs": [
    {
     "name": "stdout",
     "output_type": "stream",
     "text": [
      "LSTM(\n",
      "  (embedding): Embedding(245119, 64)\n",
      "  (lstm): LSTM(64, 256, num_layers=4, batch_first=True, dropout=0.3, bidirectional=True)\n",
      "  (dropout): Dropout(p=0.3, inplace=False)\n",
      "  (fc): Linear(in_features=256, out_features=5, bias=True)\n",
      ")\n"
     ]
    }
   ],
   "source": [
    "# Model 생성.\n",
    "model = LSTM(VOCAB_SIZE, OUTPUT_SIZE, EMBED_DIM, HIDDEN_DIM, N_LAYERS, DROPOUT_PROB)\n",
    "model = model.to(device)\n",
    "\n",
    "print(model)"
   ]
  },
  {
   "cell_type": "markdown",
   "metadata": {
    "id": "vgIYHO-3Q77k"
   },
   "source": [
    "# 9. Train the Model"
   ]
  },
  {
   "cell_type": "markdown",
   "metadata": {
    "id": "KIdyPffzSo2X"
   },
   "source": [
    "## 9-a. 학습 준비"
   ]
  },
  {
   "cell_type": "code",
   "execution_count": null,
   "metadata": {
    "id": "l-K6L2D5VlHY"
   },
   "outputs": [],
   "source": [
    "class WeightedCrossEntropyLoss(nn.Module):\n",
    "    def __init__(self, alpha=1.0, exponent=2):\n",
    "        super(WeightedCrossEntropyLoss, self).__init__()\n",
    "        self.cross_entropy = nn.CrossEntropyLoss(reduction='none')\n",
    "        self.alpha = alpha\n",
    "        self.exponent = exponent\n",
    "\n",
    "    def forward(self, pred, target):\n",
    "        # 기본 CrossEntropy 손실 계산 (각 샘플마다)\n",
    "        ce_loss = self.cross_entropy(pred, target)\n",
    "        \n",
    "        # 예측 클래스 추출\n",
    "        _, pred_classes = torch.max(pred, dim=1)\n",
    "        \n",
    "        # 예측 클래스와 실제 클래스의 차이 계산\n",
    "        difference = torch.abs(pred_classes - target)\n",
    "        \n",
    "        # 비선형 가중치 적용 (차이에 대해 거듭제곱과 alpha 가중치 적용)\n",
    "        weights = (self.alpha * (difference.float() ** self.exponent)).detach()\n",
    "        \n",
    "        # 가중치가 적용된 손실\n",
    "        weighted_loss = ce_loss * weights\n",
    "        \n",
    "        # 평균 손실 반환\n",
    "        return weighted_loss.mean()"
   ]
  },
  {
   "cell_type": "code",
   "execution_count": null,
   "metadata": {
    "id": "zhJ4SnybTj-f"
   },
   "outputs": [],
   "source": [
    "lr = 0.0001  # learning rate.\n",
    "wd = 0.01  # weight decay.\n",
    "loss_func = nn.CrossEntropyLoss()  # 다중 클래스 분류를 위한 손실 함수.\n",
    "custom_loss_func = CustomLoss()    # 다중 클래스 분류를 위한 손실 함수. 가중치 고려.\n",
    "optimizer = torch.optim.AdamW(model.parameters(), lr=lr, weight_decay=wd)\n",
    "clip = 5 # for ameliorating the exploding-gradient problem.\n",
    "epochs = 15\n",
    "\n",
    "total_steps = len(train_loader) * epochs\n",
    "warmup_steps = int(0.15 * total_steps)  # 예: 15%를 warmup 단계로 설정\n",
    "\n",
    "scheduler = get_cosine_schedule_with_warmup(\n",
    "    optimizer,\n",
    "    num_warmup_steps=warmup_steps,\n",
    "    num_training_steps=total_steps\n",
    ")"
   ]
  },
  {
   "cell_type": "code",
   "execution_count": 18,
   "metadata": {
    "id": "HXPYNKpjRF8k"
   },
   "outputs": [],
   "source": [
    "def acc(pred, label):\n",
    "    # 각 샘플에 대해 가장 높은 확률을 가진 클래스를 예측 클래스로 변환\n",
    "    _, pred_classes = torch.max(pred, dim=1)  # 예측 확률의 최대값 인덱스를 클래스 레이블로 변환\n",
    "    correct = torch.sum(pred_classes == label).item()  # 예측이 실제 레이블과 일치하는 수를 계산\n",
    "    return correct"
   ]
  },
  {
   "cell_type": "code",
   "execution_count": 19,
   "metadata": {
    "id": "vMKuTqN2IdAq"
   },
   "outputs": [],
   "source": [
    "def custom_acc(pred, label):\n",
    "    # 각 샘플에 대해 가장 높은 확률을 가진 클래스를 예측 클래스로 변환\n",
    "    _, pred_classes = torch.max(pred, dim=1)  # 예측 확률의 최대값 인덱스를 클래스 레이블로 변환\n",
    "\n",
    "    # 예측과 실제 레이블 간의 차이를 계산\n",
    "    difference = torch.abs(pred_classes - label)\n",
    "\n",
    "    # 정확하게 일치하면 1, 1만큼 차이나면 0.3, 그 외에는 0 점수 부여\n",
    "    scores = torch.where(difference == 0, 1.0, torch.where(difference == 1, SEMI_DIFF_SCORE, 0.0))\n",
    "\n",
    "    # 전체 점수의 합계를 계산\n",
    "    total_score = torch.sum(scores).item()\n",
    "\n",
    "    return total_score"
   ]
  },
  {
   "cell_type": "code",
   "execution_count": 20,
   "metadata": {
    "id": "KkUbwunjSure"
   },
   "outputs": [],
   "source": [
    "each_epoch_tr_loss,each_epoch_vl_loss = [],[]\n",
    "each_epoch_tr_acc,each_epoch_vl_acc = [],[]\n",
    "each_epoch_tr_custom_acc,each_epoch_vl_custom_acc = [],[]\n",
    "each_epoch_lr = []\n",
    "valid_loss_min = np.Inf"
   ]
  },
  {
   "cell_type": "markdown",
   "metadata": {
    "id": "O9KU3PpjS_Y1"
   },
   "source": [
    "## 9-b. 학습"
   ]
  },
  {
   "cell_type": "code",
   "execution_count": null,
   "metadata": {
    "id": "uTxD1vU5TCOd"
   },
   "outputs": [
    {
     "name": "stdout",
     "output_type": "stream",
     "text": [
      "Epoch 1\n",
      "Train Step\n"
     ]
    },
    {
     "data": {
      "application/vnd.jupyter.widget-view+json": {
       "model_id": "ae20980cc55544799388dd0f95ccbb6e",
       "version_major": 2,
       "version_minor": 0
      },
      "text/plain": [
       "  0%|          | 0/9375 [00:00<?, ?it/s]"
      ]
     },
     "metadata": {},
     "output_type": "display_data"
    }
   ],
   "source": [
    "for epoch in range(epochs):\n",
    "    print(\"Epoch\", epoch+1)\n",
    "\n",
    "    ## TRAINING ##\n",
    "    train_losses = []\n",
    "    train_acc = 0.0\n",
    "    train_custom_acc = 0.0\n",
    "    model.train()  # 모델을 훈련 모드로 설정\n",
    "    h = model.init_hidden(BATCH_SIZE)  # 초기 hidden state 설정\n",
    "\n",
    "    print(\"Train Step\")\n",
    "    for inputs, labels in tqdm(train_loader):\n",
    "        h = tuple([each.data for each in h])  # 이전 hidden state 데이터 유지\n",
    "\n",
    "        inputs, labels = inputs.to(device), labels.to(device)  # GPU 또는 CPU로 이동\n",
    "\n",
    "        model.zero_grad()\n",
    "        output, h = model(inputs, h)\n",
    "\n",
    "        # 손실 계산 및 역전파\n",
    "        loss = loss_func(output, labels)  # ----------\n",
    "        # loss = custom_loss_func(output, labels)\n",
    "        loss.backward()\n",
    "        train_losses.append(loss.item())\n",
    "\n",
    "        # 정확도 계산\n",
    "        accuracy = acc(output, labels)\n",
    "        custom_accuracy = custom_acc(output, labels)\n",
    "        train_acc += accuracy\n",
    "        train_custom_acc += custom_accuracy\n",
    "\n",
    "        # exploding gradient 문제를 예방\n",
    "        nn.utils.clip_grad_norm_(model.parameters(), clip)\n",
    "        optimizer.step()\n",
    "        # LR scheduler를 사용한다면,\n",
    "        scheduler.step()\n",
    "\n",
    "    print(\"Valid Step\")\n",
    "    ## EVALUATION ##\n",
    "    val_losses = []\n",
    "    val_acc = 0.0\n",
    "    val_custom_acc = 0.0\n",
    "    model.eval()  # 모델을 평가 모드로 설정\n",
    "    val_h = model.init_hidden(BATCH_SIZE)  # 초기 hidden state 설정\n",
    "\n",
    "    for inputs_v, labels_v in tqdm(valid_loader):\n",
    "        val_h = tuple([each.data for each in val_h])\n",
    "\n",
    "        inputs_v, labels_v = inputs_v.to(device), labels_v.to(device)  # GPU 또는 CPU로 이동\n",
    "\n",
    "        output_v, val_h = model(inputs_v, val_h)\n",
    "        val_loss = loss_func(output_v, labels_v)  # ----------\n",
    "        # val_loss = custom_loss_func(output_v, labels_v)\n",
    "\n",
    "        val_losses.append(val_loss.item())\n",
    "\n",
    "        accuracy = acc(output_v, labels_v)\n",
    "        custom_accuracy = custom_acc(output_v, labels_v)\n",
    "        val_acc += accuracy\n",
    "        val_custom_acc += custom_accuracy\n",
    "\n",
    "    # 평균 손실 및 정확도 계산\n",
    "    epoch_train_loss = np.mean(train_losses)\n",
    "    epoch_val_loss = np.mean(val_losses)\n",
    "    epoch_train_acc = train_acc / len(train_loader.dataset)\n",
    "    epoch_val_acc = val_acc / len(valid_loader.dataset)\n",
    "    epoch_train_custom_acc = train_custom_acc / len(train_loader.dataset)\n",
    "    epoch_val_custom_acc = val_custom_acc / len(valid_loader.dataset)\n",
    "\n",
    "    # 손실 및 정확도 기록\n",
    "    each_epoch_tr_loss.append(epoch_train_loss)\n",
    "    each_epoch_vl_loss.append(epoch_val_loss)\n",
    "    each_epoch_tr_acc.append(epoch_train_acc)\n",
    "    each_epoch_vl_acc.append(epoch_val_acc)\n",
    "    each_epoch_tr_custom_acc.append(epoch_train_custom_acc)\n",
    "    each_epoch_vl_custom_acc.append(epoch_val_custom_acc)\n",
    "    each_epoch_lr.append(scheduler.get_last_lr())\n",
    "\n",
    "    # print(f'Epoch {epoch + 1}')\n",
    "    print(\"learning rate:\", scheduler.get_last_lr())\n",
    "    print(f'train_loss : {epoch_train_loss:.4f} | val_loss : {epoch_val_loss:.4f}')\n",
    "    print(f'train_accuracy : {epoch_train_acc * 100:.2f}% | val_accuracy : {epoch_val_acc * 100:.2f}%')\n",
    "    print(f'train_custom_accuracy : {epoch_train_custom_acc * 100:.2f}% | val_custom_accuracy : {epoch_val_custom_acc * 100:.2f}%')\n",
    "\n",
    "    # 검증 손실이 줄어들면 모델 저장\n",
    "    if epoch_val_loss <= valid_loss_min:\n",
    "        torch.save(model.state_dict(), MODEL_PATH)\n",
    "        print('Validation loss decreased ({:.4f} --> {:.4f}).  Saving model ...'.format(valid_loss_min, epoch_val_loss))\n",
    "        valid_loss_min = epoch_val_loss\n",
    "\n",
    "    print(25 * '==')"
   ]
  },
  {
   "cell_type": "markdown",
   "metadata": {
    "id": "TGYrCc0YUyNF"
   },
   "source": [
    "# 10. Test"
   ]
  },
  {
   "cell_type": "code",
   "execution_count": null,
   "metadata": {
    "id": "KVoEE6hrUz39"
   },
   "outputs": [],
   "source": [
    "# Get test data loss and accuracy\n",
    "\n",
    "test_losses = []  # track loss\n",
    "num_correct = 0\n",
    "\n",
    "# init hidden state\n",
    "test_h = model.init_hidden(BATCH_SIZE)\n",
    "\n",
    "model.eval()\n",
    "# iterate over test data\n",
    "for inputs, labels in tqdm(test_loader):\n",
    "\n",
    "    # Creating new variables for the hidden state, otherwise\n",
    "    # we'd backprop through the entire training history\n",
    "    test_h = tuple([each.data for each in test_h])\n",
    "\n",
    "    inputs, labels = inputs.to(device), labels.to(device)\n",
    "\n",
    "    output, test_h = model(inputs, test_h)\n",
    "\n",
    "    # calculate loss\n",
    "    test_loss = loss_func(output, labels)  # CrossEntropyLoss는 logits을 사용하므로 squeeze하지 않음\n",
    "    test_losses.append(test_loss.item())\n",
    "\n",
    "    # convert output probabilities to predicted class (0 to 4)\n",
    "    pred = torch.argmax(output, dim=1)  # 가장 높은 확률을 가진 클래스 인덱스 선택\n",
    "\n",
    "    # compare predictions to true label\n",
    "    correct_tensor = pred.eq(labels.view_as(pred))  # 예측과 실제 라벨 비교\n",
    "    correct = np.squeeze(correct_tensor.cpu().numpy())\n",
    "    num_correct += np.sum(correct)\n",
    "\n",
    "# -- stats! -- ##\n",
    "# avg test loss\n",
    "print(\"Test loss: {:.4f}\".format(np.mean(test_losses)))\n",
    "\n",
    "# accuracy over all test data\n",
    "test_acc = num_correct / len(test_loader.dataset)\n",
    "print(\"Test accuracy: {:.2f}%\".format(test_acc * 100))\n"
   ]
  },
  {
   "cell_type": "code",
   "execution_count": null,
   "metadata": {
    "id": "F6zPd0fSjdeU"
   },
   "outputs": [],
   "source": [
    "print(each_epoch_tr_loss)\n",
    "print(each_epoch_vl_loss)\n",
    "print(each_epoch_tr_acc)\n",
    "print(each_epoch_vl_acc)\n",
    "print(each_epoch_tr_custom_acc)\n",
    "print(each_epoch_vl_custom_acc)\n",
    "print(each_epoch_lr)\n",
    "\n",
    "# 첫 번째 y축에 손실(loss)을 플로팅\n",
    "fig, ax1 = plt.subplots()\n",
    "ax1.plot(each_epoch_vl_loss, color='blue', marker='o', label=\"Validation Loss\")\n",
    "ax1.set_xlabel(\"Epoch\")\n",
    "ax1.set_ylabel(\"Validation Loss\", color='blue')\n",
    "ax1.tick_params(axis='y', labelcolor='blue')\n",
    "\n",
    "# 두 번째 y축에 정확도(accuracy)를 플로팅\n",
    "ax2 = ax1.twinx()\n",
    "ax2.plot(each_epoch_vl_acc, color='red', marker='x', linestyle='--', label=\"Validation Accuracy\")\n",
    "ax2.set_ylabel(\"Validation Accuracy\", color='red')\n",
    "ax2.tick_params(axis='y', labelcolor='red')\n",
    "\n",
    "# 제목 추가\n",
    "plt.title(f\"Validation Loss and Accuracy (lr: {lr}, hidden layer: {HIDDEN_DIM})\")\n",
    "\n",
    "# 그래프 표시\n",
    "fig.tight_layout()  # 겹침 방지\n",
    "plt.show()"
   ]
  },
  {
   "cell_type": "markdown",
   "metadata": {
    "id": "j7XF-8_eyXR_"
   },
   "source": [
    "## 10-append. 학습된 모델 불러오기."
   ]
  },
  {
   "cell_type": "code",
   "execution_count": null,
   "metadata": {
    "id": "Ep-q09ZJyZf6"
   },
   "outputs": [],
   "source": [
    "model.load_state_dict(torch.load(MODEL_PATH))"
   ]
  }
 ],
 "metadata": {
  "accelerator": "GPU",
  "colab": {
   "gpuType": "T4",
   "provenance": []
  },
  "kernelspec": {
   "display_name": "Python 3 (ipykernel)",
   "language": "python",
   "name": "python3"
  },
  "language_info": {
   "codemirror_mode": {
    "name": "ipython",
    "version": 3
   },
   "file_extension": ".py",
   "mimetype": "text/x-python",
   "name": "python",
   "nbconvert_exporter": "python",
   "pygments_lexer": "ipython3",
   "version": "3.10.12"
  }
 },
 "nbformat": 4,
 "nbformat_minor": 4
}
